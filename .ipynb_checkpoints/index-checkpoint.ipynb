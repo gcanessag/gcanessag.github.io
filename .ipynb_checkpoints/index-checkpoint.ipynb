{
 "cells": [
  {
   "cell_type": "markdown",
   "id": "048df45c",
   "metadata": {},
   "source": [
    "<div class=\"alert alert-block alert-info\">\n",
    "<b>Gianpiero Canessa</b>\n",
    "</div>"
   ]
  },
  {
   "cell_type": "markdown",
   "id": "90ad4ba9",
   "metadata": {},
   "source": [
    "# Profile\n",
    "- __[Google Scholar](https://scholar.google.com/citations?user=BOd9ywgAAAAJ&hl=en)__\n",
    "- __[Research Gate](https://www.researchgate.net/profile/Gianpiero-Canessa-2)__\n",
    "- __[ORCID ID](https://orcid.org/my-orcid?orcid=0000-0003-0418-5682)__"
   ]
  },
  {
   "cell_type": "markdown",
   "id": "84ce4941",
   "metadata": {},
   "source": [
    "# Employment\n",
    "- Research consultant (2022 - present), Thermo-Calc AB, Sweden.\n",
    "- Postdoc in the Optimization and System Theory division (2019 – 2021), KTH Royal Institute of Technology, Sweden.\n",
    "- Research Assistant (December 2012 – March 2014), INRIA Foundation, Chile.\n",
    "    - Project: research in chance-constrained problems and rare events. Worked under Dr. Javiera Barrera at UAI, funded by the INRIA Foundation."
   ]
  },
  {
   "cell_type": "markdown",
   "id": "86dd6a2a",
   "metadata": {},
   "source": [
    "# Research Interest\n",
    "- Optimization\n",
    "- Stochastic optimization\n",
    "- Integer optimization"
   ]
  },
  {
   "cell_type": "markdown",
   "id": "f4409a35",
   "metadata": {},
   "source": [
    "# Teaching experience\n",
    "- Integer Programming Ph. D. course, KTH, 2020 – 2021.\n",
    "- Applied Linear Optimization Master and Ph. D. course, KTH, 2020 – 2021.\n",
    "- Stochastic Processes and Revenue Management MBA course, UAI, 2016 – 2019.\n",
    "- Stochastic Processes, Optimization and Introduction to Operation Research undergraduate courses, UAI, 2013 – 2019."
   ]
  },
  {
   "cell_type": "markdown",
   "id": "1becaac9",
   "metadata": {},
   "source": [
    "# Publications\n",
    "- 2022\n",
    "    - Jeong, Y., **Canessa, G.**, Flores-García, E., Agrawal, T. K., & Wiktorsson, M. (2022). An optimization model with stochastic variables for flexible production logistics planning. arXiv preprint arXiv:2203.17033. __[Link.](https://arxiv.org/abs/2203.17033)__\n",
    "    - “Towards the Identification of Archaeological Elements Through Machine Learning: a New Possible Tool for Archaeological Survey”. J. Astorga, L. Cornejo, S. Arpón, **G. Canessa**. Published in Praxis Arqueológica, 2022. __[Link.](https://www.researchgate.net/profile/Javier-Astorga/publication/359645036_Hacia_el_reconocimiento_de_evidencias_arqueologicas_por_medio_de_la_aplicacion_de_machine_learning_una_posible_nueva_herramienta_en_metodos_de_prospeccion/links/624de7ddd726197cfd41158a/Hacia-el-reconocimiento-de-evidencias-arqueologicas-por-medio-de-la-aplicacion-de-machine-learning-una-posible-nueva-herramienta-en-metodos-de-prospeccion.pdf)__\n",
    "- 2021\n",
    "    - Peng, S., & **Canessa, G.** (2021). Chance constrained conic-segmentation support vector machine with uncertain data. arXiv preprint arXiv:2107.13319. __[Link.](https://arxiv.org/abs/2107.13319)__\n",
    "    - Peng, S., **Canessa, G.**, Ek, D., & Forsgren, A. (2021). Quasi-Newton methods for minimizing a quadratic function subject to uncertainty. arXiv preprint arXiv:2109.00072. __[Link.](https://arxiv.org/abs/2109.00072)__\n",
    "- 2020\n",
    "    - **Canessa, G.**, Moreno, E., & Pagnoncelli, B. K. (2021). The risk-averse ultimate pit problem. Optimization and Engineering, 22(4), 2655-2678. __[Link.](https://link.springer.com/article/10.1007/s11081-020-09545-4)__\n",
    "    - Mondschein, S., Olivares, M., Ordonez, F., Schwartz, D., Weintraub, A., Aguayo, C., **Canessa G.**, & Torres, I. (2020). Logistics of Voting in Pandemic: Balancing Waiting Time with Infection Risk. SSRN Electron. J. __[Link.](https://isci.cl/wp-content/uploads/2020/11/Logistics-of-Voting-in-Pandemic.pdf)__\n",
    "    - Barrera, J., Carrasco, R. A., Mondschein, S., **Canessa, G.**, & Rojas-Zalazar, D. (2020). Operating room scheduling under waiting time constraints: the Chilean GES plan. Annals of Operations Research, 286(1), 501-527. __[Link.](https://www.researchgate.net/profile/Rodrigo-Carrasco-10/publication/326881550_Operating_Room_Scheduling_under_Waiting_Time_Constraints_the_Chilean_GES_Plan/links/5b770dbba6fdcc5f8b4e24db/Operating-Room-Scheduling-under-Waiting-Time-Constraints-the-Chilean-GES-Plan.pdf)__\n",
    "- 2019\n",
    "    - **Canessa, G.**, Gallego, J. A., Ntaimo, L., & Pagnoncelli, B. K. (2019). An algorithm for binary linear chance-constrained problems using IIS. Computational Optimization and Applications, 72(3), 589-608. __[Link.](https://ficpubs.uai.cl/files/996_Canessa_etal2019.pdf)__\n",
    "- 2015\n",
    "    - Barrera, J., Homem-de-Mello, T., Moreno, E., Pagnoncelli, B. K., & **Canessa, G.** (2016). Chance-constrained problems and rare events: an importance sampling approach. Mathematical Programming, 157(1), 153-189. __[Link.](https://emoreno.uai.cl/wp-content/uploads/sites/3/2019/12/MAPR16-ImportanceSampling.pdf)__"
   ]
  },
  {
   "cell_type": "markdown",
   "id": "a71b0045",
   "metadata": {},
   "source": [
    "# Education\n",
    "- Ph. D. of Industrial Engineer and Operation Research Program (2015 - 2019), Universidad Adolfo Ibáñez.\n",
    "    - Thesis: Static risk-averse models with applications to mining (approved by the program committee). First place of the Piensa Mineria 2018 Grant, Codelco Tech, Chile.\n",
    "    - Summary: An algorithm for solving binary linear chance-constrained problems using IIS and risk averse stochastic optimization for the ultimate pit problem.\n",
    "    - Thesis advisor: Dr. Bernardo K. Pagnoncelli (UAI, Chile).\n",
    "    - Co-authors: Dr. Lewis Ntaimo (Texas A&M University, USA), Eduardo Moreno (UAI, Chile).\n",
    "- MSc. in Management Science (2011 - 2012), Universidad Adolfo Ibáñez.\n",
    "    - Thesis: \"Improvements on continuous production nonmetallic mining facilities maintenance\".\n",
    "    - Summary: Diagnosis and recommendations for preventive maintenance, alongside an implementation program for a continuous nonmetallic mining company.\n",
    "- Industrial Engineering (2006 - 2012), Universidad Adolfo Ibáñez."
   ]
  }
 ],
 "metadata": {
  "kernelspec": {
   "display_name": "Python 3 (ipykernel)",
   "language": "python",
   "name": "python3"
  },
  "language_info": {
   "codemirror_mode": {
    "name": "ipython",
    "version": 3
   },
   "file_extension": ".py",
   "mimetype": "text/x-python",
   "name": "python",
   "nbconvert_exporter": "python",
   "pygments_lexer": "ipython3",
   "version": "3.8.13"
  }
 },
 "nbformat": 4,
 "nbformat_minor": 5
}
